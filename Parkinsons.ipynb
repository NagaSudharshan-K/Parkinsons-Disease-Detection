{
 "cells": [
  {
   "cell_type": "code",
   "execution_count": 124,
   "id": "72fc7d81-e8ae-4372-97f7-531d54c5b027",
   "metadata": {},
   "outputs": [],
   "source": [
    "import pandas as pd\n",
    "import matplotlib.pyplot as plt\n",
    "import seaborn as sns\n",
    "import numpy as np\n",
    "from sklearn.model_selection import train_test_split\n",
    "from xgboost import XGBClassifier\n",
    "import lightgbm as lgb\n",
    "from sklearn.metrics import accuracy_score, confusion_matrix, classification_report, log_loss, precision_score, recall_score, f1_score\n",
    "from imblearn.over_sampling import SMOTE\n",
    "from sklearn.ensemble import AdaBoostClassifier, GradientBoostingClassifier\n",
    "from sklearn.mixture import GaussianMixture\n",
    "from sklearn.preprocessing import StandardScaler\n",
    "from scipy.stats import mode\n",
    "from sklearn.linear_model import RidgeClassifier\n",
    "from sklearn.linear_model import ElasticNet\n",
    "from catboost import CatBoostClassifier\n",
    "from sklearn.ensemble import RandomForestClassifier\n",
    "from sklearn.ensemble import ExtraTreesClassifier\n"
   ]
  },
  {
   "cell_type": "markdown",
   "id": "75c992b5-3f87-44ec-a077-1fbf625d63de",
   "metadata": {},
   "source": [
    "## Loading the dataset"
   ]
  },
  {
   "cell_type": "code",
   "execution_count": 125,
   "id": "0f602fe5-da80-4047-8ca1-b9f6f72fdf4f",
   "metadata": {},
   "outputs": [
    {
     "data": {
      "text/html": [
       "<div>\n",
       "<style scoped>\n",
       "    .dataframe tbody tr th:only-of-type {\n",
       "        vertical-align: middle;\n",
       "    }\n",
       "\n",
       "    .dataframe tbody tr th {\n",
       "        vertical-align: top;\n",
       "    }\n",
       "\n",
       "    .dataframe thead th {\n",
       "        text-align: right;\n",
       "    }\n",
       "</style>\n",
       "<table border=\"1\" class=\"dataframe\">\n",
       "  <thead>\n",
       "    <tr style=\"text-align: right;\">\n",
       "      <th></th>\n",
       "      <th>id</th>\n",
       "      <th>gender</th>\n",
       "      <th>PPE</th>\n",
       "      <th>EEG</th>\n",
       "      <th>RPDE</th>\n",
       "      <th>numPulses</th>\n",
       "      <th>numPeriodsPulses</th>\n",
       "      <th>meanPeriodPulses</th>\n",
       "      <th>stdDevPeriodPulses</th>\n",
       "      <th>locPctJitter</th>\n",
       "      <th>...</th>\n",
       "      <th>tqwt_kurtosisValue_dec_28</th>\n",
       "      <th>tqwt_kurtosisValue_dec_29</th>\n",
       "      <th>tqwt_kurtosisValue_dec_30</th>\n",
       "      <th>tqwt_kurtosisValue_dec_31</th>\n",
       "      <th>tqwt_kurtosisValue_dec_32</th>\n",
       "      <th>tqwt_kurtosisValue_dec_33</th>\n",
       "      <th>tqwt_kurtosisValue_dec_34</th>\n",
       "      <th>tqwt_kurtosisValue_dec_35</th>\n",
       "      <th>tqwt_kurtosisValue_dec_36</th>\n",
       "      <th>class</th>\n",
       "    </tr>\n",
       "  </thead>\n",
       "  <tbody>\n",
       "    <tr>\n",
       "      <th>0</th>\n",
       "      <td>0</td>\n",
       "      <td>1</td>\n",
       "      <td>0.85247</td>\n",
       "      <td>0.71826</td>\n",
       "      <td>0.57227</td>\n",
       "      <td>240</td>\n",
       "      <td>239</td>\n",
       "      <td>0.008064</td>\n",
       "      <td>0.000087</td>\n",
       "      <td>0.00218</td>\n",
       "      <td>...</td>\n",
       "      <td>1.5620</td>\n",
       "      <td>2.6445</td>\n",
       "      <td>3.8686</td>\n",
       "      <td>4.2105</td>\n",
       "      <td>5.1221</td>\n",
       "      <td>4.4625</td>\n",
       "      <td>2.6202</td>\n",
       "      <td>3.0004</td>\n",
       "      <td>18.9405</td>\n",
       "      <td>1</td>\n",
       "    </tr>\n",
       "    <tr>\n",
       "      <th>1</th>\n",
       "      <td>0</td>\n",
       "      <td>1</td>\n",
       "      <td>0.76686</td>\n",
       "      <td>0.69481</td>\n",
       "      <td>0.53966</td>\n",
       "      <td>234</td>\n",
       "      <td>233</td>\n",
       "      <td>0.008258</td>\n",
       "      <td>0.000073</td>\n",
       "      <td>0.00195</td>\n",
       "      <td>...</td>\n",
       "      <td>1.5589</td>\n",
       "      <td>3.6107</td>\n",
       "      <td>23.5155</td>\n",
       "      <td>14.1962</td>\n",
       "      <td>11.0261</td>\n",
       "      <td>9.5082</td>\n",
       "      <td>6.5245</td>\n",
       "      <td>6.3431</td>\n",
       "      <td>45.1780</td>\n",
       "      <td>1</td>\n",
       "    </tr>\n",
       "    <tr>\n",
       "      <th>2</th>\n",
       "      <td>0</td>\n",
       "      <td>1</td>\n",
       "      <td>0.85083</td>\n",
       "      <td>0.67604</td>\n",
       "      <td>0.58982</td>\n",
       "      <td>232</td>\n",
       "      <td>231</td>\n",
       "      <td>0.008340</td>\n",
       "      <td>0.000060</td>\n",
       "      <td>0.00176</td>\n",
       "      <td>...</td>\n",
       "      <td>1.5643</td>\n",
       "      <td>2.3308</td>\n",
       "      <td>9.4959</td>\n",
       "      <td>10.7458</td>\n",
       "      <td>11.0177</td>\n",
       "      <td>4.8066</td>\n",
       "      <td>2.9199</td>\n",
       "      <td>3.1495</td>\n",
       "      <td>4.7666</td>\n",
       "      <td>1</td>\n",
       "    </tr>\n",
       "    <tr>\n",
       "      <th>3</th>\n",
       "      <td>1</td>\n",
       "      <td>0</td>\n",
       "      <td>0.41121</td>\n",
       "      <td>0.79672</td>\n",
       "      <td>0.59257</td>\n",
       "      <td>178</td>\n",
       "      <td>177</td>\n",
       "      <td>0.010858</td>\n",
       "      <td>0.000183</td>\n",
       "      <td>0.00419</td>\n",
       "      <td>...</td>\n",
       "      <td>3.7805</td>\n",
       "      <td>3.5664</td>\n",
       "      <td>5.2558</td>\n",
       "      <td>14.0403</td>\n",
       "      <td>4.2235</td>\n",
       "      <td>4.6857</td>\n",
       "      <td>4.8460</td>\n",
       "      <td>6.2650</td>\n",
       "      <td>4.0603</td>\n",
       "      <td>1</td>\n",
       "    </tr>\n",
       "    <tr>\n",
       "      <th>4</th>\n",
       "      <td>1</td>\n",
       "      <td>0</td>\n",
       "      <td>0.32790</td>\n",
       "      <td>0.79782</td>\n",
       "      <td>0.53028</td>\n",
       "      <td>236</td>\n",
       "      <td>235</td>\n",
       "      <td>0.008162</td>\n",
       "      <td>0.002669</td>\n",
       "      <td>0.00535</td>\n",
       "      <td>...</td>\n",
       "      <td>6.1727</td>\n",
       "      <td>5.8416</td>\n",
       "      <td>6.0805</td>\n",
       "      <td>5.7621</td>\n",
       "      <td>7.7817</td>\n",
       "      <td>11.6891</td>\n",
       "      <td>8.2103</td>\n",
       "      <td>5.0559</td>\n",
       "      <td>6.1164</td>\n",
       "      <td>1</td>\n",
       "    </tr>\n",
       "  </tbody>\n",
       "</table>\n",
       "<p>5 rows × 755 columns</p>\n",
       "</div>"
      ],
      "text/plain": [
       "   id  gender      PPE      EEG     RPDE  numPulses  numPeriodsPulses  \\\n",
       "0   0       1  0.85247  0.71826  0.57227        240               239   \n",
       "1   0       1  0.76686  0.69481  0.53966        234               233   \n",
       "2   0       1  0.85083  0.67604  0.58982        232               231   \n",
       "3   1       0  0.41121  0.79672  0.59257        178               177   \n",
       "4   1       0  0.32790  0.79782  0.53028        236               235   \n",
       "\n",
       "   meanPeriodPulses  stdDevPeriodPulses  locPctJitter  ...  \\\n",
       "0          0.008064            0.000087       0.00218  ...   \n",
       "1          0.008258            0.000073       0.00195  ...   \n",
       "2          0.008340            0.000060       0.00176  ...   \n",
       "3          0.010858            0.000183       0.00419  ...   \n",
       "4          0.008162            0.002669       0.00535  ...   \n",
       "\n",
       "   tqwt_kurtosisValue_dec_28  tqwt_kurtosisValue_dec_29  \\\n",
       "0                     1.5620                     2.6445   \n",
       "1                     1.5589                     3.6107   \n",
       "2                     1.5643                     2.3308   \n",
       "3                     3.7805                     3.5664   \n",
       "4                     6.1727                     5.8416   \n",
       "\n",
       "   tqwt_kurtosisValue_dec_30  tqwt_kurtosisValue_dec_31  \\\n",
       "0                     3.8686                     4.2105   \n",
       "1                    23.5155                    14.1962   \n",
       "2                     9.4959                    10.7458   \n",
       "3                     5.2558                    14.0403   \n",
       "4                     6.0805                     5.7621   \n",
       "\n",
       "   tqwt_kurtosisValue_dec_32  tqwt_kurtosisValue_dec_33  \\\n",
       "0                     5.1221                     4.4625   \n",
       "1                    11.0261                     9.5082   \n",
       "2                    11.0177                     4.8066   \n",
       "3                     4.2235                     4.6857   \n",
       "4                     7.7817                    11.6891   \n",
       "\n",
       "   tqwt_kurtosisValue_dec_34  tqwt_kurtosisValue_dec_35  \\\n",
       "0                     2.6202                     3.0004   \n",
       "1                     6.5245                     6.3431   \n",
       "2                     2.9199                     3.1495   \n",
       "3                     4.8460                     6.2650   \n",
       "4                     8.2103                     5.0559   \n",
       "\n",
       "   tqwt_kurtosisValue_dec_36  class  \n",
       "0                    18.9405      1  \n",
       "1                    45.1780      1  \n",
       "2                     4.7666      1  \n",
       "3                     4.0603      1  \n",
       "4                     6.1164      1  \n",
       "\n",
       "[5 rows x 755 columns]"
      ]
     },
     "execution_count": 125,
     "metadata": {},
     "output_type": "execute_result"
    }
   ],
   "source": [
    "df = pd.read_csv('pd_EEG_features.csv')\n",
    "df.head()"
   ]
  },
  {
   "cell_type": "code",
   "execution_count": 126,
   "id": "94d143d2-09e4-40de-9dc3-a091fb3ce220",
   "metadata": {},
   "outputs": [],
   "source": [
    "X = df.drop(columns=['id','class']) \n",
    "y = df['class']  "
   ]
  },
  {
   "cell_type": "markdown",
   "id": "e6d621cb-959d-46be-93ad-814177459b01",
   "metadata": {},
   "source": [
    "# IMBALANCED DATA"
   ]
  },
  {
   "cell_type": "code",
   "execution_count": 127,
   "id": "b991e8bd-c898-4e6c-8e80-04d07e45b3cd",
   "metadata": {},
   "outputs": [
    {
     "name": "stdout",
     "output_type": "stream",
     "text": [
      "192 564\n"
     ]
    }
   ],
   "source": [
    "count0=0\n",
    "count1=0\n",
    "for i in y:\n",
    "    if i==0:\n",
    "        count0+=1\n",
    "    else:\n",
    "        count1+=1\n",
    "\n",
    "print(count0,count1)"
   ]
  },
  {
   "cell_type": "code",
   "execution_count": 128,
   "id": "7ebf13e4-8987-4290-a286-72d5d18cfab0",
   "metadata": {},
   "outputs": [],
   "source": [
    "#splitting the data\n",
    "X_train, X_test, y_train, y_test = train_test_split(X, y, test_size=0.2, random_state=42)"
   ]
  },
  {
   "cell_type": "markdown",
   "id": "62585e66-547e-433c-8272-3dd7c7106a68",
   "metadata": {},
   "source": [
    "### XGBoost"
   ]
  },
  {
   "cell_type": "code",
   "execution_count": 129,
   "id": "82a9bc7a-837a-42a7-a6b3-52125fdcabc9",
   "metadata": {},
   "outputs": [],
   "source": [
    "xgb = XGBClassifier(use_label_encoder=False, eval_metric='logloss')\n",
    "xgb.fit(X_train, y_train)\n",
    "y_pred = xgb.predict(X_test)"
   ]
  },
  {
   "cell_type": "code",
   "execution_count": 130,
   "id": "55e91b1b-7562-41c7-9a7a-471a8af09d43",
   "metadata": {},
   "outputs": [
    {
     "name": "stdout",
     "output_type": "stream",
     "text": [
      "Accuracy: 0.881578947368421\n",
      "Precision: 0.8870967741935484\n",
      "Recall: 0.9649122807017544\n",
      "F1 Score: 0.9243697478991597\n",
      "Error Rate: 0.11842105263157898\n",
      "Binary Cross-Entropy Loss: 0.2929799327922923\n",
      "Confusion Matrix:\n",
      "[[ 24  14]\n",
      " [  4 110]]\n"
     ]
    }
   ],
   "source": [
    "xg_accuracy = accuracy_score(y_test, y_pred)\n",
    "precision = precision_score(y_test, y_pred)\n",
    "recall = recall_score(y_test, y_pred)\n",
    "f1 = f1_score(y_test, y_pred)\n",
    "error_rate = 1 - xg_accuracy\n",
    "y_pred_proba = xgb.predict_proba(X_test)[:, 1]\n",
    "loss = log_loss(y_test, y_pred_proba)\n",
    "conf_matrix = confusion_matrix(y_test, y_pred)\n",
    "\n",
    "print(\"Accuracy:\",xg_accuracy)\n",
    "print(\"Precision:\", precision)\n",
    "print(\"Recall:\", recall)\n",
    "print(\"F1 Score:\", f1)\n",
    "print(\"Error Rate:\", error_rate)\n",
    "print(\"Binary Cross-Entropy Loss:\", loss)\n",
    "print(\"Confusion Matrix:\")\n",
    "print(conf_matrix)"
   ]
  },
  {
   "cell_type": "markdown",
   "id": "b6461605-e026-4f5c-b200-bc4f51174486",
   "metadata": {},
   "source": [
    "### AdaBoost Classifier"
   ]
  },
  {
   "cell_type": "code",
   "execution_count": 131,
   "id": "2208980a-ca30-4be7-9d9e-a162c9b1c206",
   "metadata": {},
   "outputs": [
    {
     "name": "stderr",
     "output_type": "stream",
     "text": [
      "C:\\Users\\sudha\\AppData\\Local\\Programs\\Python\\Python310\\lib\\site-packages\\sklearn\\ensemble\\_weight_boosting.py:519: FutureWarning: The SAMME.R algorithm (the default) is deprecated and will be removed in 1.6. Use the SAMME algorithm to circumvent this warning.\n",
      "  warnings.warn(\n"
     ]
    }
   ],
   "source": [
    "ada = AdaBoostClassifier(n_estimators=100, random_state=42)\n",
    "ada.fit(X_train, y_train)\n",
    "y_pred = ada.predict(X_test)\n"
   ]
  },
  {
   "cell_type": "code",
   "execution_count": 132,
   "id": "0f9db4a8-c51e-452b-b551-c22bd3402943",
   "metadata": {},
   "outputs": [
    {
     "name": "stdout",
     "output_type": "stream",
     "text": [
      "Accuracy: 0.8947368421052632\n",
      "Precision: 0.9016393442622951\n",
      "Recall: 0.9649122807017544\n",
      "F1 Score: 0.9322033898305084\n",
      "Error Rate: 0.10526315789473684\n",
      "Binary Cross-Entropy Loss: 0.6436058135483399\n",
      "Confusion Matrix:\n",
      "[[ 26  12]\n",
      " [  4 110]]\n"
     ]
    }
   ],
   "source": [
    "AB_accuracy = accuracy_score(y_test, y_pred)\n",
    "precision = precision_score(y_test, y_pred)\n",
    "recall = recall_score(y_test, y_pred)\n",
    "f1 = f1_score(y_test, y_pred)\n",
    "error_rate = 1 - AB_accuracy\n",
    "y_pred_proba = ada.predict_proba(X_test)[:, 1]\n",
    "loss = log_loss(y_test, y_pred_proba)\n",
    "conf_matrix = confusion_matrix(y_test, y_pred)\n",
    "\n",
    "print(\"Accuracy:\",AB_accuracy)\n",
    "print(\"Precision:\", precision)\n",
    "print(\"Recall:\", recall)\n",
    "print(\"F1 Score:\", f1)\n",
    "print(\"Error Rate:\", error_rate)\n",
    "print(\"Binary Cross-Entropy Loss:\", loss)\n",
    "print(\"Confusion Matrix:\")\n",
    "print(conf_matrix)"
   ]
  },
  {
   "cell_type": "markdown",
   "id": "153d42ff-bc54-41cc-b133-8137bf750185",
   "metadata": {},
   "source": [
    "### CatBoost"
   ]
  },
  {
   "cell_type": "code",
   "execution_count": 133,
   "id": "4974b5cb-f9cd-470a-9bc2-ae0c155aade7",
   "metadata": {
    "scrolled": true
   },
   "outputs": [
    {
     "name": "stdout",
     "output_type": "stream",
     "text": [
      "Learning rate set to 0.068618\n",
      "0:\tlearn: 0.6522192\ttotal: 52ms\tremaining: 5.14s\n",
      "1:\tlearn: 0.6086152\ttotal: 102ms\tremaining: 5.02s\n",
      "2:\tlearn: 0.5609546\ttotal: 156ms\tremaining: 5.05s\n",
      "3:\tlearn: 0.5278116\ttotal: 210ms\tremaining: 5.05s\n",
      "4:\tlearn: 0.5010378\ttotal: 264ms\tremaining: 5.01s\n",
      "5:\tlearn: 0.4685901\ttotal: 317ms\tremaining: 4.96s\n",
      "6:\tlearn: 0.4402476\ttotal: 369ms\tremaining: 4.91s\n",
      "7:\tlearn: 0.4184514\ttotal: 421ms\tremaining: 4.84s\n",
      "8:\tlearn: 0.4002694\ttotal: 473ms\tremaining: 4.79s\n",
      "9:\tlearn: 0.3845739\ttotal: 525ms\tremaining: 4.72s\n",
      "10:\tlearn: 0.3728740\ttotal: 575ms\tremaining: 4.66s\n",
      "11:\tlearn: 0.3593275\ttotal: 628ms\tremaining: 4.61s\n",
      "12:\tlearn: 0.3459569\ttotal: 681ms\tremaining: 4.56s\n",
      "13:\tlearn: 0.3349738\ttotal: 737ms\tremaining: 4.53s\n",
      "14:\tlearn: 0.3233329\ttotal: 795ms\tremaining: 4.51s\n",
      "15:\tlearn: 0.3130873\ttotal: 851ms\tremaining: 4.47s\n",
      "16:\tlearn: 0.3035014\ttotal: 904ms\tremaining: 4.42s\n",
      "17:\tlearn: 0.2942774\ttotal: 957ms\tremaining: 4.36s\n",
      "18:\tlearn: 0.2842905\ttotal: 1.01s\tremaining: 4.31s\n",
      "19:\tlearn: 0.2760552\ttotal: 1.06s\tremaining: 4.26s\n",
      "20:\tlearn: 0.2700089\ttotal: 1.12s\tremaining: 4.21s\n",
      "21:\tlearn: 0.2634853\ttotal: 1.17s\tremaining: 4.15s\n",
      "22:\tlearn: 0.2560474\ttotal: 1.22s\tremaining: 4.09s\n",
      "23:\tlearn: 0.2501671\ttotal: 1.27s\tremaining: 4.03s\n",
      "24:\tlearn: 0.2420436\ttotal: 1.32s\tremaining: 3.98s\n",
      "25:\tlearn: 0.2368737\ttotal: 1.38s\tremaining: 3.92s\n",
      "26:\tlearn: 0.2326180\ttotal: 1.43s\tremaining: 3.86s\n",
      "27:\tlearn: 0.2269740\ttotal: 1.48s\tremaining: 3.81s\n",
      "28:\tlearn: 0.2205339\ttotal: 1.53s\tremaining: 3.76s\n",
      "29:\tlearn: 0.2139073\ttotal: 1.59s\tremaining: 3.7s\n",
      "30:\tlearn: 0.2078642\ttotal: 1.64s\tremaining: 3.65s\n",
      "31:\tlearn: 0.2026994\ttotal: 1.69s\tremaining: 3.59s\n",
      "32:\tlearn: 0.1999166\ttotal: 1.74s\tremaining: 3.54s\n",
      "33:\tlearn: 0.1972807\ttotal: 1.8s\tremaining: 3.49s\n",
      "34:\tlearn: 0.1933327\ttotal: 1.85s\tremaining: 3.44s\n",
      "35:\tlearn: 0.1886880\ttotal: 1.9s\tremaining: 3.38s\n",
      "36:\tlearn: 0.1843702\ttotal: 1.96s\tremaining: 3.33s\n",
      "37:\tlearn: 0.1787624\ttotal: 2.01s\tremaining: 3.28s\n",
      "38:\tlearn: 0.1750118\ttotal: 2.06s\tremaining: 3.23s\n",
      "39:\tlearn: 0.1723344\ttotal: 2.12s\tremaining: 3.17s\n",
      "40:\tlearn: 0.1685041\ttotal: 2.17s\tremaining: 3.12s\n",
      "41:\tlearn: 0.1651345\ttotal: 2.22s\tremaining: 3.07s\n",
      "42:\tlearn: 0.1612020\ttotal: 2.27s\tremaining: 3.01s\n",
      "43:\tlearn: 0.1577078\ttotal: 2.33s\tremaining: 2.96s\n",
      "44:\tlearn: 0.1545633\ttotal: 2.38s\tremaining: 2.91s\n",
      "45:\tlearn: 0.1525920\ttotal: 2.43s\tremaining: 2.85s\n",
      "46:\tlearn: 0.1486932\ttotal: 2.48s\tremaining: 2.8s\n",
      "47:\tlearn: 0.1462880\ttotal: 2.53s\tremaining: 2.75s\n",
      "48:\tlearn: 0.1436736\ttotal: 2.59s\tremaining: 2.69s\n",
      "49:\tlearn: 0.1404577\ttotal: 2.64s\tremaining: 2.64s\n",
      "50:\tlearn: 0.1382399\ttotal: 2.7s\tremaining: 2.59s\n",
      "51:\tlearn: 0.1355339\ttotal: 2.75s\tremaining: 2.54s\n",
      "52:\tlearn: 0.1336003\ttotal: 2.8s\tremaining: 2.48s\n",
      "53:\tlearn: 0.1316442\ttotal: 2.86s\tremaining: 2.43s\n",
      "54:\tlearn: 0.1286838\ttotal: 2.91s\tremaining: 2.38s\n",
      "55:\tlearn: 0.1254792\ttotal: 2.96s\tremaining: 2.33s\n",
      "56:\tlearn: 0.1233602\ttotal: 3.01s\tremaining: 2.27s\n",
      "57:\tlearn: 0.1199315\ttotal: 3.07s\tremaining: 2.22s\n",
      "58:\tlearn: 0.1184418\ttotal: 3.12s\tremaining: 2.17s\n",
      "59:\tlearn: 0.1161328\ttotal: 3.17s\tremaining: 2.11s\n",
      "60:\tlearn: 0.1149258\ttotal: 3.22s\tremaining: 2.06s\n",
      "61:\tlearn: 0.1131364\ttotal: 3.27s\tremaining: 2.01s\n",
      "62:\tlearn: 0.1107287\ttotal: 3.33s\tremaining: 1.95s\n",
      "63:\tlearn: 0.1091558\ttotal: 3.38s\tremaining: 1.9s\n",
      "64:\tlearn: 0.1080720\ttotal: 3.43s\tremaining: 1.85s\n",
      "65:\tlearn: 0.1063699\ttotal: 3.48s\tremaining: 1.79s\n",
      "66:\tlearn: 0.1041280\ttotal: 3.53s\tremaining: 1.74s\n",
      "67:\tlearn: 0.1027799\ttotal: 3.58s\tremaining: 1.69s\n",
      "68:\tlearn: 0.1009342\ttotal: 3.64s\tremaining: 1.63s\n",
      "69:\tlearn: 0.0994756\ttotal: 3.69s\tremaining: 1.58s\n",
      "70:\tlearn: 0.0964662\ttotal: 3.74s\tremaining: 1.53s\n",
      "71:\tlearn: 0.0944241\ttotal: 3.8s\tremaining: 1.48s\n",
      "72:\tlearn: 0.0933958\ttotal: 3.85s\tremaining: 1.42s\n",
      "73:\tlearn: 0.0920115\ttotal: 3.9s\tremaining: 1.37s\n",
      "74:\tlearn: 0.0905942\ttotal: 3.96s\tremaining: 1.32s\n",
      "75:\tlearn: 0.0897315\ttotal: 4.01s\tremaining: 1.26s\n",
      "76:\tlearn: 0.0887638\ttotal: 4.06s\tremaining: 1.21s\n",
      "77:\tlearn: 0.0869422\ttotal: 4.11s\tremaining: 1.16s\n",
      "78:\tlearn: 0.0854891\ttotal: 4.17s\tremaining: 1.11s\n",
      "79:\tlearn: 0.0842882\ttotal: 4.22s\tremaining: 1.05s\n",
      "80:\tlearn: 0.0827801\ttotal: 4.27s\tremaining: 1s\n",
      "81:\tlearn: 0.0812816\ttotal: 4.33s\tremaining: 950ms\n",
      "82:\tlearn: 0.0803353\ttotal: 4.38s\tremaining: 897ms\n",
      "83:\tlearn: 0.0789167\ttotal: 4.43s\tremaining: 844ms\n",
      "84:\tlearn: 0.0766755\ttotal: 4.49s\tremaining: 792ms\n",
      "85:\tlearn: 0.0750899\ttotal: 4.54s\tremaining: 739ms\n",
      "86:\tlearn: 0.0735907\ttotal: 4.59s\tremaining: 686ms\n",
      "87:\tlearn: 0.0722654\ttotal: 4.64s\tremaining: 633ms\n",
      "88:\tlearn: 0.0709205\ttotal: 4.69s\tremaining: 580ms\n",
      "89:\tlearn: 0.0692419\ttotal: 4.74s\tremaining: 527ms\n",
      "90:\tlearn: 0.0684089\ttotal: 4.8s\tremaining: 474ms\n",
      "91:\tlearn: 0.0669015\ttotal: 4.85s\tremaining: 422ms\n",
      "92:\tlearn: 0.0663552\ttotal: 4.9s\tremaining: 369ms\n",
      "93:\tlearn: 0.0652122\ttotal: 4.95s\tremaining: 316ms\n",
      "94:\tlearn: 0.0649976\ttotal: 5s\tremaining: 263ms\n",
      "95:\tlearn: 0.0642066\ttotal: 5.05s\tremaining: 211ms\n",
      "96:\tlearn: 0.0640009\ttotal: 5.11s\tremaining: 158ms\n",
      "97:\tlearn: 0.0630943\ttotal: 5.16s\tremaining: 105ms\n",
      "98:\tlearn: 0.0618022\ttotal: 5.21s\tremaining: 52.6ms\n",
      "99:\tlearn: 0.0608409\ttotal: 5.26s\tremaining: 0us\n"
     ]
    }
   ],
   "source": [
    "catboost_classifier = CatBoostClassifier(n_estimators=100, random_state=42)\n",
    "catboost_classifier.fit(X_train, y_train)\n",
    "y_pred = catboost_classifier.predict(X_test)"
   ]
  },
  {
   "cell_type": "code",
   "execution_count": 134,
   "id": "f554e15f-8a92-4ca2-9478-ead95d28271b",
   "metadata": {},
   "outputs": [
    {
     "name": "stdout",
     "output_type": "stream",
     "text": [
      "Accuracy: 0.8618421052631579\n",
      "Precision: 0.8661417322834646\n",
      "Recall: 0.9649122807017544\n",
      "F1 Score: 0.9128630705394191\n",
      "Error Rate: 0.13815789473684215\n",
      "Binary Cross-Entropy Loss: 0.3079936360843641\n",
      "Confusion Matrix:\n",
      "[[ 21  17]\n",
      " [  4 110]]\n"
     ]
    }
   ],
   "source": [
    "catboost_accuracy = accuracy_score(y_test, y_pred)\n",
    "precision = precision_score(y_test, y_pred)\n",
    "recall = recall_score(y_test, y_pred)\n",
    "f1 = f1_score(y_test, y_pred)\n",
    "error_rate = 1 - catboost_accuracy\n",
    "y_pred_proba = catboost_classifier.predict_proba(X_test)[:, 1]\n",
    "loss = log_loss(y_test, y_pred_proba)\n",
    "conf_matrix = confusion_matrix(y_test, y_pred)\n",
    "\n",
    "print(\"Accuracy:\",catboost_accuracy)\n",
    "print(\"Precision:\", precision)\n",
    "print(\"Recall:\", recall)\n",
    "print(\"F1 Score:\", f1)\n",
    "print(\"Error Rate:\", error_rate)\n",
    "print(\"Binary Cross-Entropy Loss:\", loss)\n",
    "print(\"Confusion Matrix:\")\n",
    "print(conf_matrix)"
   ]
  },
  {
   "cell_type": "markdown",
   "id": "30995b70-3ce5-4667-9b09-ec19ff3f428c",
   "metadata": {},
   "source": [
    "### GBM"
   ]
  },
  {
   "cell_type": "code",
   "execution_count": 135,
   "id": "d8ab6309-a67b-46ad-a4c9-f03344f7463c",
   "metadata": {},
   "outputs": [],
   "source": [
    "gbm = GradientBoostingClassifier(\n",
    "    n_estimators=100,      \n",
    "    learning_rate=0.05,\n",
    "    max_depth=5,          \n",
    "    max_features=0.9,\n",
    "    random_state=42\n",
    ")\n",
    "gbm.fit(X_train, y_train)\n",
    "\n",
    "y_pred_prob = gbm.predict_proba(X_test)[:, 1]\n",
    "y_pred_binary = [1 if x > 0.5 else 0 for x in y_pred_prob]\n"
   ]
  },
  {
   "cell_type": "code",
   "execution_count": 136,
   "id": "0a0f073b-fb18-4c64-9aaa-c6f2fe05d079",
   "metadata": {},
   "outputs": [
    {
     "name": "stdout",
     "output_type": "stream",
     "text": [
      "Accuracy: 0.8486842105263158\n",
      "Precision: 0.8661417322834646\n",
      "Recall: 0.9649122807017544\n",
      "F1 Score: 0.9128630705394191\n",
      "Error Rate: 0.15131578947368418\n",
      "Binary Cross-Entropy Loss: 0.37246624664823264\n",
      "Confusion Matrix:\n",
      "[[ 21  17]\n",
      " [  4 110]]\n"
     ]
    }
   ],
   "source": [
    "gbm_accuracy = accuracy_score(y_test, y_pred_binary)\n",
    "precision = precision_score(y_test, y_pred)\n",
    "recall = recall_score(y_test, y_pred)\n",
    "f1 = f1_score(y_test, y_pred)\n",
    "error_rate = 1 - gbm_accuracy\n",
    "y_pred_proba = gbm.predict_proba(X_test)[:, 1]\n",
    "loss = log_loss(y_test, y_pred_proba)\n",
    "conf_matrix = confusion_matrix(y_test, y_pred)\n",
    "\n",
    "print(\"Accuracy:\",gbm_accuracy)\n",
    "print(\"Precision:\", precision)\n",
    "print(\"Recall:\", recall)\n",
    "print(\"F1 Score:\", f1)\n",
    "print(\"Error Rate:\", error_rate)\n",
    "print(\"Binary Cross-Entropy Loss:\", loss)\n",
    "print(\"Confusion Matrix:\")\n",
    "print(conf_matrix)"
   ]
  },
  {
   "cell_type": "markdown",
   "id": "1bdd41b9-6494-4168-b936-186c30dce73e",
   "metadata": {},
   "source": [
    "### LightGBM"
   ]
  },
  {
   "cell_type": "code",
   "execution_count": 137,
   "id": "e76c6b7e-1522-4e1d-b73d-a1d9b3baab31",
   "metadata": {
    "scrolled": true
   },
   "outputs": [
    {
     "name": "stdout",
     "output_type": "stream",
     "text": [
      "[LightGBM] [Info] Number of positive: 450, number of negative: 154\n",
      "[LightGBM] [Info] Auto-choosing col-wise multi-threading, the overhead of testing was 0.012545 seconds.\n",
      "You can set `force_col_wise=true` to remove the overhead.\n",
      "[LightGBM] [Info] Total Bins 150492\n",
      "[LightGBM] [Info] Number of data points in the train set: 604, number of used features: 753\n",
      "[LightGBM] [Info] [binary:BoostFromScore]: pavg=0.745033 -> initscore=1.072295\n",
      "[LightGBM] [Info] Start training from score 1.072295\n",
      "[LightGBM] [Warning] No further splits with positive gain, best gain: -inf\n",
      "[LightGBM] [Warning] No further splits with positive gain, best gain: -inf\n",
      "[LightGBM] [Warning] No further splits with positive gain, best gain: -inf\n",
      "[LightGBM] [Warning] No further splits with positive gain, best gain: -inf\n",
      "[LightGBM] [Warning] No further splits with positive gain, best gain: -inf\n",
      "[LightGBM] [Warning] No further splits with positive gain, best gain: -inf\n",
      "[LightGBM] [Warning] No further splits with positive gain, best gain: -inf\n",
      "[LightGBM] [Warning] No further splits with positive gain, best gain: -inf\n",
      "[LightGBM] [Warning] No further splits with positive gain, best gain: -inf\n",
      "[LightGBM] [Warning] No further splits with positive gain, best gain: -inf\n",
      "[LightGBM] [Warning] No further splits with positive gain, best gain: -inf\n",
      "[LightGBM] [Warning] No further splits with positive gain, best gain: -inf\n",
      "[LightGBM] [Warning] No further splits with positive gain, best gain: -inf\n",
      "[LightGBM] [Warning] No further splits with positive gain, best gain: -inf\n",
      "[LightGBM] [Warning] No further splits with positive gain, best gain: -inf\n",
      "[LightGBM] [Warning] No further splits with positive gain, best gain: -inf\n",
      "[LightGBM] [Warning] No further splits with positive gain, best gain: -inf\n",
      "[LightGBM] [Warning] No further splits with positive gain, best gain: -inf\n",
      "[LightGBM] [Warning] No further splits with positive gain, best gain: -inf\n",
      "[LightGBM] [Warning] No further splits with positive gain, best gain: -inf\n",
      "[LightGBM] [Warning] No further splits with positive gain, best gain: -inf\n",
      "[LightGBM] [Warning] No further splits with positive gain, best gain: -inf\n",
      "[LightGBM] [Warning] No further splits with positive gain, best gain: -inf\n",
      "[LightGBM] [Warning] No further splits with positive gain, best gain: -inf\n",
      "[LightGBM] [Warning] No further splits with positive gain, best gain: -inf\n",
      "[LightGBM] [Warning] No further splits with positive gain, best gain: -inf\n",
      "[LightGBM] [Warning] No further splits with positive gain, best gain: -inf\n",
      "[LightGBM] [Warning] No further splits with positive gain, best gain: -inf\n",
      "[LightGBM] [Warning] No further splits with positive gain, best gain: -inf\n",
      "[LightGBM] [Warning] No further splits with positive gain, best gain: -inf\n",
      "[LightGBM] [Warning] No further splits with positive gain, best gain: -inf\n",
      "[LightGBM] [Warning] No further splits with positive gain, best gain: -inf\n",
      "[LightGBM] [Warning] No further splits with positive gain, best gain: -inf\n",
      "[LightGBM] [Warning] No further splits with positive gain, best gain: -inf\n",
      "[LightGBM] [Warning] No further splits with positive gain, best gain: -inf\n",
      "[LightGBM] [Warning] No further splits with positive gain, best gain: -inf\n",
      "[LightGBM] [Warning] No further splits with positive gain, best gain: -inf\n",
      "[LightGBM] [Warning] No further splits with positive gain, best gain: -inf\n",
      "[LightGBM] [Warning] No further splits with positive gain, best gain: -inf\n",
      "[LightGBM] [Warning] No further splits with positive gain, best gain: -inf\n",
      "[LightGBM] [Warning] No further splits with positive gain, best gain: -inf\n",
      "[LightGBM] [Warning] No further splits with positive gain, best gain: -inf\n",
      "[LightGBM] [Warning] No further splits with positive gain, best gain: -inf\n",
      "[LightGBM] [Warning] No further splits with positive gain, best gain: -inf\n",
      "[LightGBM] [Warning] No further splits with positive gain, best gain: -inf\n",
      "[LightGBM] [Warning] No further splits with positive gain, best gain: -inf\n",
      "[LightGBM] [Warning] No further splits with positive gain, best gain: -inf\n",
      "[LightGBM] [Warning] No further splits with positive gain, best gain: -inf\n",
      "[LightGBM] [Warning] No further splits with positive gain, best gain: -inf\n",
      "[LightGBM] [Warning] No further splits with positive gain, best gain: -inf\n",
      "[LightGBM] [Warning] No further splits with positive gain, best gain: -inf\n",
      "[LightGBM] [Warning] No further splits with positive gain, best gain: -inf\n",
      "[LightGBM] [Warning] No further splits with positive gain, best gain: -inf\n",
      "[LightGBM] [Warning] No further splits with positive gain, best gain: -inf\n",
      "[LightGBM] [Warning] No further splits with positive gain, best gain: -inf\n",
      "[LightGBM] [Warning] No further splits with positive gain, best gain: -inf\n",
      "[LightGBM] [Warning] No further splits with positive gain, best gain: -inf\n",
      "[LightGBM] [Warning] No further splits with positive gain, best gain: -inf\n",
      "[LightGBM] [Warning] No further splits with positive gain, best gain: -inf\n",
      "[LightGBM] [Warning] No further splits with positive gain, best gain: -inf\n",
      "[LightGBM] [Warning] No further splits with positive gain, best gain: -inf\n",
      "[LightGBM] [Warning] No further splits with positive gain, best gain: -inf\n",
      "[LightGBM] [Warning] No further splits with positive gain, best gain: -inf\n",
      "[LightGBM] [Warning] No further splits with positive gain, best gain: -inf\n",
      "[LightGBM] [Warning] No further splits with positive gain, best gain: -inf\n",
      "[LightGBM] [Warning] No further splits with positive gain, best gain: -inf\n",
      "[LightGBM] [Warning] No further splits with positive gain, best gain: -inf\n",
      "[LightGBM] [Warning] No further splits with positive gain, best gain: -inf\n",
      "[LightGBM] [Warning] No further splits with positive gain, best gain: -inf\n",
      "[LightGBM] [Warning] No further splits with positive gain, best gain: -inf\n",
      "[LightGBM] [Warning] No further splits with positive gain, best gain: -inf\n",
      "[LightGBM] [Warning] No further splits with positive gain, best gain: -inf\n",
      "[LightGBM] [Warning] No further splits with positive gain, best gain: -inf\n",
      "[LightGBM] [Warning] No further splits with positive gain, best gain: -inf\n",
      "[LightGBM] [Warning] No further splits with positive gain, best gain: -inf\n",
      "[LightGBM] [Warning] No further splits with positive gain, best gain: -inf\n",
      "[LightGBM] [Warning] No further splits with positive gain, best gain: -inf\n",
      "[LightGBM] [Warning] No further splits with positive gain, best gain: -inf\n",
      "[LightGBM] [Warning] No further splits with positive gain, best gain: -inf\n",
      "[LightGBM] [Warning] No further splits with positive gain, best gain: -inf\n",
      "[LightGBM] [Warning] No further splits with positive gain, best gain: -inf\n",
      "[LightGBM] [Warning] No further splits with positive gain, best gain: -inf\n",
      "[LightGBM] [Warning] No further splits with positive gain, best gain: -inf\n",
      "[LightGBM] [Warning] No further splits with positive gain, best gain: -inf\n",
      "[LightGBM] [Warning] No further splits with positive gain, best gain: -inf\n",
      "[LightGBM] [Warning] No further splits with positive gain, best gain: -inf\n",
      "[LightGBM] [Warning] No further splits with positive gain, best gain: -inf\n",
      "[LightGBM] [Warning] No further splits with positive gain, best gain: -inf\n",
      "[LightGBM] [Warning] No further splits with positive gain, best gain: -inf\n",
      "[LightGBM] [Warning] No further splits with positive gain, best gain: -inf\n",
      "[LightGBM] [Warning] No further splits with positive gain, best gain: -inf\n",
      "[LightGBM] [Warning] No further splits with positive gain, best gain: -inf\n",
      "[LightGBM] [Warning] No further splits with positive gain, best gain: -inf\n",
      "[LightGBM] [Warning] No further splits with positive gain, best gain: -inf\n",
      "[LightGBM] [Warning] No further splits with positive gain, best gain: -inf\n",
      "[LightGBM] [Warning] No further splits with positive gain, best gain: -inf\n",
      "[LightGBM] [Warning] No further splits with positive gain, best gain: -inf\n"
     ]
    }
   ],
   "source": [
    "lgb_train = lgb.Dataset(X_train, y_train)\n",
    "lgb_eval = lgb.Dataset(X_test, y_test, reference=lgb_train)\n",
    "params = {\n",
    "    'objective': 'binary',\n",
    "    'metric': 'binary_error',\n",
    "    'boosting_type': 'gbdt',\n",
    "    'num_leaves': 31,\n",
    "    'learning_rate': 0.05,\n",
    "    'feature_fraction': 0.9\n",
    "}\n",
    "lgbm = lgb.train(params, lgb_train, num_boost_round=100, valid_sets=lgb_eval)\n",
    "y_pred = lgbm.predict(X_test, num_iteration=lgbm.best_iteration)\n",
    "y_pred_binary = [1 if x > 0.5 else 0 for x in y_pred]\n"
   ]
  },
  {
   "cell_type": "code",
   "execution_count": 138,
   "id": "c9b6a4e7-d459-44f1-a73b-670cd9b3c9aa",
   "metadata": {},
   "outputs": [
    {
     "name": "stdout",
     "output_type": "stream",
     "text": [
      "Accuracy: 0.8947368421052632\n",
      "Precision: 0.8828125\n",
      "Recall: 0.9912280701754386\n",
      "F1 Score: 0.9338842975206612\n",
      "Error Rate: 0.10526315789473684\n",
      "Binary Cross-Entropy Loss: 0.48226933004165345\n",
      "Confusion Matrix:\n",
      "[[ 23  15]\n",
      " [  1 113]]\n"
     ]
    }
   ],
   "source": [
    "lgbm_accuracy = accuracy_score(y_test, y_pred_binary)\n",
    "precision = precision_score(y_test, y_pred_binary)\n",
    "recall = recall_score(y_test, y_pred_binary)\n",
    "f1 = f1_score(y_test, y_pred_binary)\n",
    "error_rate = 1 - lgbm_accuracy\n",
    "y_pred_proba = 1 / (1 + np.exp(-y_pred))\n",
    "loss = log_loss(y_test, y_pred_proba)\n",
    "conf_matrix = confusion_matrix(y_test, y_pred_binary)\n",
    "\n",
    "print(\"Accuracy:\",lgbm_accuracy)\n",
    "print(\"Precision:\", precision)\n",
    "print(\"Recall:\", recall)\n",
    "print(\"F1 Score:\", f1)\n",
    "print(\"Error Rate:\", error_rate)\n",
    "print(\"Binary Cross-Entropy Loss:\", loss)\n",
    "print(\"Confusion Matrix:\")\n",
    "print(conf_matrix)"
   ]
  },
  {
   "cell_type": "markdown",
   "id": "039ea797-cc88-4f7d-85da-209cd968766e",
   "metadata": {},
   "source": [
    "### Ridge"
   ]
  },
  {
   "cell_type": "code",
   "execution_count": 139,
   "id": "cc61508f-7e75-4105-8920-cfb29104d3e5",
   "metadata": {},
   "outputs": [
    {
     "name": "stderr",
     "output_type": "stream",
     "text": [
      "C:\\Users\\sudha\\AppData\\Local\\Programs\\Python\\Python310\\lib\\site-packages\\sklearn\\linear_model\\_ridge.py:243: UserWarning: Singular matrix in solving dual problem. Using least-squares solution instead.\n",
      "  warnings.warn(\n"
     ]
    }
   ],
   "source": [
    "ridge_classifier = RidgeClassifier(\n",
    "    alpha=1.0,  \n",
    "    random_state=42\n",
    ")\n",
    "ridge_classifier.fit(X_train, y_train)\n",
    "y_pred = ridge_classifier.predict(X_test)\n",
    "y_pred_binary = (y_pred >= 0.5).astype(int)"
   ]
  },
  {
   "cell_type": "code",
   "execution_count": 140,
   "id": "7411a34b-8e32-4627-9cbf-5c97b6627339",
   "metadata": {},
   "outputs": [
    {
     "name": "stdout",
     "output_type": "stream",
     "text": [
      "Accuracy: 0.8355263157894737\n",
      "Precision: 0.8677685950413223\n",
      "Recall: 0.9210526315789473\n",
      "F1 Score: 0.8936170212765957\n",
      "Error Rate: 0.16447368421052633\n",
      "Confusion Matrix:\n",
      "[[ 22  16]\n",
      " [  9 105]]\n"
     ]
    }
   ],
   "source": [
    "ridge_accuracy = accuracy_score(y_test, y_pred_binary)\n",
    "precision = precision_score(y_test, y_pred)\n",
    "recall = recall_score(y_test, y_pred)\n",
    "f1 = f1_score(y_test, y_pred)\n",
    "error_rate = 1 - ridge_accuracy\n",
    "loss = log_loss(y_test, y_pred_proba)\n",
    "conf_matrix = confusion_matrix(y_test, y_pred)\n",
    "\n",
    "print(\"Accuracy:\",ridge_accuracy)\n",
    "print(\"Precision:\", precision)\n",
    "print(\"Recall:\", recall)\n",
    "print(\"F1 Score:\", f1)\n",
    "print(\"Error Rate:\", error_rate)\n",
    "print(\"Confusion Matrix:\")\n",
    "print(conf_matrix)"
   ]
  },
  {
   "cell_type": "markdown",
   "id": "8c40cda2-eda2-48a2-8d06-03fb9594f198",
   "metadata": {},
   "source": [
    "### ElasticNet "
   ]
  },
  {
   "cell_type": "code",
   "execution_count": 141,
   "id": "fdbec537-ba7c-4796-9472-120f6b7cf55d",
   "metadata": {},
   "outputs": [
    {
     "name": "stderr",
     "output_type": "stream",
     "text": [
      "C:\\Users\\sudha\\AppData\\Local\\Programs\\Python\\Python310\\lib\\site-packages\\sklearn\\linear_model\\_coordinate_descent.py:678: ConvergenceWarning: Objective did not converge. You might want to increase the number of iterations, check the scale of the features or consider increasing regularisation. Duality gap: 2.829e+01, tolerance: 1.147e-02\n",
      "  model = cd_fast.enet_coordinate_descent(\n"
     ]
    }
   ],
   "source": [
    "elastic_net_classifier = ElasticNet(alpha=1.0, l1_ratio=0.5, random_state=42)\n",
    "elastic_net_classifier.fit(X_train, y_train)\n",
    "y_pred = elastic_net_classifier.predict(X_test)\n",
    "y_pred_binary = (y_pred >= 0.5).astype(int)\n"
   ]
  },
  {
   "cell_type": "code",
   "execution_count": 142,
   "id": "0f7d5b7f-5c87-45d4-a24f-73962fa23e74",
   "metadata": {},
   "outputs": [
    {
     "name": "stdout",
     "output_type": "stream",
     "text": [
      "Accuracy: 0.868421052631579\n",
      "Precision: 0.8790322580645161\n",
      "Recall: 0.956140350877193\n",
      "F1 Score: 0.9159663865546218\n",
      "Error Rate: 0.13157894736842102\n",
      "Confusion Matrix:\n",
      "[[ 23  15]\n",
      " [  5 109]]\n"
     ]
    }
   ],
   "source": [
    "elastic_net_accuracy = accuracy_score(y_test, y_pred_binary)\n",
    "precision = precision_score(y_test, y_pred_binary)\n",
    "recall = recall_score(y_test, y_pred_binary)\n",
    "f1 = f1_score(y_test, y_pred_binary)\n",
    "error_rate = 1 - elastic_net_accuracy\n",
    "conf_matrix = confusion_matrix(y_test, y_pred_binary)\n",
    "\n",
    "print(\"Accuracy:\",elastic_net_accuracy)\n",
    "print(\"Precision:\", precision)\n",
    "print(\"Recall:\", recall)\n",
    "print(\"F1 Score:\", f1)\n",
    "print(\"Error Rate:\", error_rate)\n",
    "print(\"Confusion Matrix:\")\n",
    "print(conf_matrix)"
   ]
  },
  {
   "cell_type": "markdown",
   "id": "39733968-e9cb-45fc-a444-f812f3ad0e2f",
   "metadata": {},
   "source": [
    "### RandomForest"
   ]
  },
  {
   "cell_type": "code",
   "execution_count": 143,
   "id": "e12974d8-5673-4566-9e1e-c89723027f7a",
   "metadata": {},
   "outputs": [],
   "source": [
    "rf_classifier = RandomForestClassifier(n_estimators=100, random_state=42)\n",
    "rf_classifier.fit(X_train, y_train)\n",
    "y_pred = rf_classifier.predict(X_test)\n"
   ]
  },
  {
   "cell_type": "code",
   "execution_count": 144,
   "id": "921bde07-5b36-4a2a-871b-b3985657e6b5",
   "metadata": {},
   "outputs": [
    {
     "name": "stdout",
     "output_type": "stream",
     "text": [
      "Accuracy: 0.8881578947368421\n",
      "Precision: 0.888\n",
      "Recall: 0.9736842105263158\n",
      "F1 Score: 0.9288702928870293\n",
      "Error Rate: 0.11184210526315785\n",
      "Binary Cross-Entropy Loss: 0.3338101813352485\n",
      "Confusion Matrix:\n",
      "[[ 24  14]\n",
      " [  3 111]]\n"
     ]
    }
   ],
   "source": [
    "rf_accuracy = accuracy_score(y_test, y_pred)\n",
    "precision = precision_score(y_test, y_pred)\n",
    "recall = recall_score(y_test, y_pred)\n",
    "f1 = f1_score(y_test, y_pred)\n",
    "error_rate = 1 - rf_accuracy\n",
    "y_pred_proba = rf_classifier.predict_proba(X_test)[:, 1]\n",
    "loss = log_loss(y_test, y_pred_proba)\n",
    "conf_matrix = confusion_matrix(y_test, y_pred)\n",
    "\n",
    "print(\"Accuracy:\",rf_accuracy)\n",
    "print(\"Precision:\", precision)\n",
    "print(\"Recall:\", recall)\n",
    "print(\"F1 Score:\", f1)\n",
    "print(\"Error Rate:\", error_rate)\n",
    "print(\"Binary Cross-Entropy Loss:\", loss)\n",
    "print(\"Confusion Matrix:\")\n",
    "print(conf_matrix)"
   ]
  },
  {
   "cell_type": "markdown",
   "id": "f198a650-5030-4378-b3bb-2aae10fcbaf5",
   "metadata": {},
   "source": [
    "### ExtraTrees"
   ]
  },
  {
   "cell_type": "code",
   "execution_count": 145,
   "id": "c4194d89-c0c7-47f2-9c8d-659630c24e7b",
   "metadata": {},
   "outputs": [],
   "source": [
    "et_classifier = ExtraTreesClassifier(n_estimators=100, random_state=42)\n",
    "et_classifier.fit(X_train, y_train)\n",
    "y_pred = et_classifier.predict(X_test)"
   ]
  },
  {
   "cell_type": "code",
   "execution_count": 146,
   "id": "7198f208-b06f-4843-aff5-43d51cfc0e80",
   "metadata": {},
   "outputs": [
    {
     "name": "stdout",
     "output_type": "stream",
     "text": [
      "Accuracy: 0.881578947368421\n",
      "Precision: 0.8870967741935484\n",
      "Recall: 0.9649122807017544\n",
      "F1 Score: 0.9243697478991597\n",
      "Error Rate: 0.11842105263157898\n",
      "Binary Cross-Entropy Loss: 0.31982136505076286\n",
      "Confusion Matrix:\n",
      "[[ 24  14]\n",
      " [  4 110]]\n"
     ]
    }
   ],
   "source": [
    "et_accuracy = accuracy_score(y_test, y_pred)\n",
    "precision = precision_score(y_test, y_pred)\n",
    "recall = recall_score(y_test, y_pred)\n",
    "f1 = f1_score(y_test, y_pred)\n",
    "error_rate = 1 - et_accuracy\n",
    "y_pred_proba = et_classifier.predict_proba(X_test)[:, 1]\n",
    "loss = log_loss(y_test, y_pred_proba)\n",
    "conf_matrix = confusion_matrix(y_test, y_pred)\n",
    "\n",
    "print(\"Accuracy:\",et_accuracy)\n",
    "print(\"Precision:\", precision)\n",
    "print(\"Recall:\", recall)\n",
    "print(\"F1 Score:\", f1)\n",
    "print(\"Error Rate:\", error_rate)\n",
    "print(\"Binary Cross-Entropy Loss:\", loss)\n",
    "print(\"Confusion Matrix:\")\n",
    "print(conf_matrix)"
   ]
  },
  {
   "cell_type": "markdown",
   "id": "6b768fd0-f9e9-43b7-8b71-b1999a05502c",
   "metadata": {},
   "source": [
    "### GMM"
   ]
  },
  {
   "cell_type": "code",
   "execution_count": 147,
   "id": "d4ed9239-2828-4c35-b8a6-e2a911168d8f",
   "metadata": {},
   "outputs": [],
   "source": [
    "scaler = StandardScaler()\n",
    "X_scaled = scaler.fit_transform(X)\n",
    "gmm = GaussianMixture(n_components=2, random_state=42)\n",
    "gmm.fit(X_scaled)\n",
    "cluster_labels = gmm.predict(X_scaled)\n",
    "\n",
    "def map_cluster_labels(true_labels, cluster_labels):\n",
    "    new_labels = np.zeros_like(cluster_labels)\n",
    "    for i in range(np.max(cluster_labels) + 1):\n",
    "        mask = (cluster_labels == i)\n",
    "        new_labels[mask] = mode(true_labels[mask])[0]\n",
    "    return new_labels\n",
    "\n",
    "true_labels = y  \n",
    "mapped_labels = map_cluster_labels(true_labels, cluster_labels)\n"
   ]
  },
  {
   "cell_type": "code",
   "execution_count": 148,
   "id": "3e76982e-3530-4e2b-9438-47fb459c80f7",
   "metadata": {},
   "outputs": [
    {
     "name": "stdout",
     "output_type": "stream",
     "text": [
      "Accuracy: 0.746031746031746\n",
      "Precision: 0.8870967741935484\n",
      "Recall: 0.9649122807017544\n",
      "F1 Score: 0.9243697478991597\n",
      "Error Rate: 0.25396825396825395\n",
      "Binary Cross-Entropy Loss: 9.010913347279288\n",
      "Confusion Matrix:\n",
      "[[ 24  14]\n",
      " [  4 110]]\n"
     ]
    },
    {
     "name": "stderr",
     "output_type": "stream",
     "text": [
      "C:\\Users\\sudha\\AppData\\Local\\Programs\\Python\\Python310\\lib\\site-packages\\sklearn\\base.py:486: UserWarning: X has feature names, but GaussianMixture was fitted without feature names\n",
      "  warnings.warn(\n"
     ]
    }
   ],
   "source": [
    "gmm_accuracy = accuracy_score(true_labels, mapped_labels)\n",
    "precision = precision_score(y_test, y_pred)\n",
    "recall = recall_score(y_test, y_pred)\n",
    "f1 = f1_score(y_test, y_pred)\n",
    "error_rate = 1 - gmm_accuracy\n",
    "y_pred_proba = gmm.predict_proba(X_test)[:, 1]\n",
    "loss = log_loss(y_test, y_pred_proba)\n",
    "conf_matrix = confusion_matrix(y_test, y_pred)\n",
    "\n",
    "print(\"Accuracy:\",gmm_accuracy)\n",
    "print(\"Precision:\", precision)\n",
    "print(\"Recall:\", recall)\n",
    "print(\"F1 Score:\", f1)\n",
    "print(\"Error Rate:\", error_rate)\n",
    "print(\"Binary Cross-Entropy Loss:\", loss)\n",
    "print(\"Confusion Matrix:\")\n",
    "print(conf_matrix)"
   ]
  },
  {
   "cell_type": "markdown",
   "id": "3c0bd427-6dbc-48aa-bcf8-23aaad64f69a",
   "metadata": {},
   "source": [
    "### Accuracy on UNBALANCED data"
   ]
  },
  {
   "cell_type": "code",
   "execution_count": 149,
   "id": "47915a97-3256-4cba-912e-ca71bd570ce8",
   "metadata": {},
   "outputs": [
    {
     "name": "stdout",
     "output_type": "stream",
     "text": [
      "XGBoost Accuracy: 0.881578947368421\n",
      "AdaBoost Accuracy: 0.8947368421052632\n",
      "CatBoost Accuracy:0.8618421052631579\n",
      "GBM Accuracy: 0.8486842105263158\n",
      "LightGBM Accuracy: 0.8947368421052632\n",
      "Ridge Accuracy: 0.8355263157894737\n",
      "ElasticNet Accuracy: 0.868421052631579\n",
      "RandomForest Accuracy: 0.8881578947368421\n",
      "ExtraTrees Accuracy: 0.881578947368421\n",
      "GMM Accuracy: 0.746031746031746\n"
     ]
    }
   ],
   "source": [
    "print(f'XGBoost Accuracy: {xg_accuracy}')\n",
    "print(f'AdaBoost Accuracy: {AB_accuracy}')\n",
    "print(f\"CatBoost Accuracy:{catboost_accuracy}\")\n",
    "print(f'GBM Accuracy: {gbm_accuracy}')\n",
    "print(f'LightGBM Accuracy: {lgbm_accuracy}')\n",
    "print(f'Ridge Accuracy: {ridge_accuracy}')\n",
    "print(f'ElasticNet Accuracy: {elastic_net_accuracy}')\n",
    "print(f'RandomForest Accuracy: {rf_accuracy}')\n",
    "print(f'ExtraTrees Accuracy: {et_accuracy}')\n",
    "print(f'GMM Accuracy: {gmm_accuracy}')"
   ]
  }
 ],
 "metadata": {
  "kernelspec": {
   "display_name": "Python 3 (ipykernel)",
   "language": "python",
   "name": "python3"
  },
  "language_info": {
   "codemirror_mode": {
    "name": "ipython",
    "version": 3
   },
   "file_extension": ".py",
   "mimetype": "text/x-python",
   "name": "python",
   "nbconvert_exporter": "python",
   "pygments_lexer": "ipython3",
   "version": "3.10.10"
  }
 },
 "nbformat": 4,
 "nbformat_minor": 5
}
